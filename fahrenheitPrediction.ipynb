{
  "nbformat": 4,
  "nbformat_minor": 0,
  "metadata": {
    "colab": {
      "name": "Untitled3.ipynb",
      "provenance": [],
      "authorship_tag": "ABX9TyPTzi0Eyvd3rKMWShbbMcme",
      "include_colab_link": true
    },
    "kernelspec": {
      "name": "python3",
      "display_name": "Python 3"
    }
  },
  "cells": [
    {
      "cell_type": "markdown",
      "metadata": {
        "id": "view-in-github",
        "colab_type": "text"
      },
      "source": [
        "<a href=\"https://colab.research.google.com/github/rickydubey/mlProjects/blob/master/fahrenheitPrediction.ipynb\" target=\"_parent\"><img src=\"https://colab.research.google.com/assets/colab-badge.svg\" alt=\"Open In Colab\"/></a>"
      ]
    },
    {
      "cell_type": "markdown",
      "metadata": {
        "id": "XgronRMvHK7K",
        "colab_type": "text"
      },
      "source": [
        "#***Buliding a basic model for prediction of fahrenheit value from given degree celsius value***"
      ]
    },
    {
      "cell_type": "code",
      "metadata": {
        "id": "nmKLDBOA_HGy",
        "colab_type": "code",
        "colab": {}
      },
      "source": [
        "import tensorflow as tf"
      ],
      "execution_count": 1,
      "outputs": []
    },
    {
      "cell_type": "code",
      "metadata": {
        "id": "mxV0OwhL_OcL",
        "colab_type": "code",
        "colab": {}
      },
      "source": [
        "import numpy as np\n",
        "import logging\n",
        "logger = tf.get_logger()\n",
        "logger.setLevel(logging.ERROR)"
      ],
      "execution_count": 2,
      "outputs": []
    },
    {
      "cell_type": "markdown",
      "metadata": {
        "id": "S-44NxvL_2FM",
        "colab_type": "text"
      },
      "source": [
        "#Loading Data"
      ]
    },
    {
      "cell_type": "code",
      "metadata": {
        "id": "rX145p9q_vrz",
        "colab_type": "code",
        "colab": {
          "base_uri": "https://localhost:8080/",
          "height": 168
        },
        "outputId": "5a06d3bd-8f6c-40fe-924c-5e6943e1a49c"
      },
      "source": [
        "celsius_a = np.array([-40, -10,  0,  8, 15, 22,  38], dtype = float) #Single feature\n",
        "fahrenheit_a = np.array([-40,  14, 32, 46, 59, 72, 100], dtype = float) #Lable\n",
        "\n",
        "print('Dataset - ')\n",
        "print('Celsius    Fahrenheit')\n",
        "for i, c in enumerate(celsius_a):\n",
        "    print(c, ' -> ', fahrenheit_a[i])"
      ],
      "execution_count": 3,
      "outputs": [
        {
          "output_type": "stream",
          "text": [
            "Dataset - \n",
            "Celsius    Fahrenheit\n",
            "-40.0  ->  -40.0\n",
            "-10.0  ->  14.0\n",
            "0.0  ->  32.0\n",
            "8.0  ->  46.0\n",
            "15.0  ->  59.0\n",
            "22.0  ->  72.0\n",
            "38.0  ->  100.0\n"
          ],
          "name": "stdout"
        }
      ]
    },
    {
      "cell_type": "markdown",
      "metadata": {
        "id": "87gd5D45BiZ3",
        "colab_type": "text"
      },
      "source": [
        "#Layer Building"
      ]
    },
    {
      "cell_type": "code",
      "metadata": {
        "id": "fr6l3SIOBTUd",
        "colab_type": "code",
        "colab": {}
      },
      "source": [
        "#units - number of nodes / nurons in particular layer\n",
        "#input_shape = [n] - This is for input layer, n denoting number of input nurons\n",
        "l0 = tf.keras.layers.Dense(units = 1, input_shape = [1]) #first layer"
      ],
      "execution_count": 4,
      "outputs": []
    },
    {
      "cell_type": "markdown",
      "metadata": {
        "id": "8uJ6n4kjCmgB",
        "colab_type": "text"
      },
      "source": [
        "#Model Building and Compiling"
      ]
    },
    {
      "cell_type": "code",
      "metadata": {
        "id": "BCoViOXACZpR",
        "colab_type": "code",
        "colab": {}
      },
      "source": [
        "model = tf.keras.Sequential([l0])\n",
        "model.compile(loss = 'mean_squared_error', optimizer = tf.keras.optimizers.Adam(0.1)) #0.1 is learning rate"
      ],
      "execution_count": 5,
      "outputs": []
    },
    {
      "cell_type": "markdown",
      "metadata": {
        "id": "mfBFVuIgD12g",
        "colab_type": "text"
      },
      "source": [
        "#Model fitting to Dataset"
      ]
    },
    {
      "cell_type": "code",
      "metadata": {
        "id": "eoEs78EvDRxV",
        "colab_type": "code",
        "colab": {
          "base_uri": "https://localhost:8080/",
          "height": 34
        },
        "outputId": "1e440469-2526-4cea-e836-481c21b59d65"
      },
      "source": [
        "#epochs - # of cycle\n",
        "#verbose - controls how much output the method produce\n",
        "history = model.fit(celsius_a, fahrenheit_a, epochs = 500, verbose = False)\n",
        "print(\"Model Training Done\")"
      ],
      "execution_count": 6,
      "outputs": [
        {
          "output_type": "stream",
          "text": [
            "Model Training Done\n"
          ],
          "name": "stdout"
        }
      ]
    },
    {
      "cell_type": "markdown",
      "metadata": {
        "id": "QE9i7PbIFA6R",
        "colab_type": "text"
      },
      "source": [
        "#Model Loss Visualization"
      ]
    },
    {
      "cell_type": "code",
      "metadata": {
        "id": "6WBqJRx6E_np",
        "colab_type": "code",
        "colab": {
          "base_uri": "https://localhost:8080/",
          "height": 296
        },
        "outputId": "d46ddb5d-d187-41b5-e450-6fb657180dc1"
      },
      "source": [
        "import matplotlib.pyplot as plt\n",
        "plt.xlabel('Epoch Number')\n",
        "plt.ylabel(\"Loss Magnitude\")\n",
        "plt.plot(history.history['loss'])"
      ],
      "execution_count": 7,
      "outputs": [
        {
          "output_type": "execute_result",
          "data": {
            "text/plain": [
              "[<matplotlib.lines.Line2D at 0x7faac58e4f60>]"
            ]
          },
          "metadata": {
            "tags": []
          },
          "execution_count": 7
        },
        {
          "output_type": "display_data",
          "data": {
            "image/png": "[encoded data removed]",
            "text/plain": [
              "<Figure size 432x288 with 1 Axes>"
            ]
          },
          "metadata": {
            "tags": [],
            "needs_background": "light"
          }
        }
      ]
    },
    {
      "cell_type": "markdown",
      "metadata": {
        "id": "K-FfdHoPEqMd",
        "colab_type": "text"
      },
      "source": [
        "#Predicting over new Dataset"
      ]
    },
    {
      "cell_type": "code",
      "metadata": {
        "id": "iS4nfeF1EhbJ",
        "colab_type": "code",
        "colab": {
          "base_uri": "https://localhost:8080/",
          "height": 34
        },
        "outputId": "89f0dfb5-addb-4d15-9294-52687401de5f"
      },
      "source": [
        "print(model.predict([100.0]))"
      ],
      "execution_count": 8,
      "outputs": [
        {
          "output_type": "stream",
          "text": [
            "[[211.3299]]\n"
          ],
          "name": "stdout"
        }
      ]
    },
    {
      "cell_type": "markdown",
      "metadata": {
        "id": "Zevgq_VhG7DJ",
        "colab_type": "text"
      },
      "source": [
        "#Getting updated Weights after traning"
      ]
    },
    {
      "cell_type": "code",
      "metadata": {
        "id": "LLKnFdZRE7Of",
        "colab_type": "code",
        "colab": {
          "base_uri": "https://localhost:8080/",
          "height": 34
        },
        "outputId": "4516fe7f-ae22-492c-f849-775936c712e9"
      },
      "source": [
        "print(l0.get_weights())"
      ],
      "execution_count": 9,
      "outputs": [
        {
          "output_type": "stream",
          "text": [
            "[array([[1.8217319]], dtype=float32), array([29.156708], dtype=float32)]\n"
          ],
          "name": "stdout"
        }
      ]
    },
    {
      "cell_type": "code",
      "metadata": {
        "id": "LLoeMcbRG5QK",
        "colab_type": "code",
        "colab": {}
      },
      "source": [
        ""
      ],
      "execution_count": 9,
      "outputs": []
    }
  ]
}