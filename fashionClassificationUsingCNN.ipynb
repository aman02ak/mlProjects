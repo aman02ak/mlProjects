{
  "nbformat": 4,
  "nbformat_minor": 0,
  "metadata": {
    "colab": {
      "name": "fashionClassificationUsingCNN.ipynb",
      "provenance": [],
      "collapsed_sections": [],
      "authorship_tag": "ABX9TyOzVQlaT7sPpSEljyEHwC0Y",
      "include_colab_link": true
    },
    "kernelspec": {
      "name": "python3",
      "display_name": "Python 3"
    },
    "accelerator": "GPU"
  },
  "cells": [
    {
      "cell_type": "markdown",
      "metadata": {
        "id": "view-in-github",
        "colab_type": "text"
      },
      "source": [
        "<a href=\"https://colab.research.google.com/github/rickydubey/mlProjects/blob/master/fashionClassificationUsingCNN.ipynb\" target=\"_parent\"><img src=\"https://colab.research.google.com/assets/colab-badge.svg\" alt=\"Open In Colab\"/></a>"
      ]
    },
    {
      "cell_type": "markdown",
      "metadata": {
        "id": "55tE7J-l8CtY",
        "colab_type": "text"
      },
      "source": [
        "Project Name : Classification Model for Clothing Items using FASHION MNIST datasets.\n",
        "\n",
        "Contributor : *`Aman Kumar`*\n",
        "\n",
        "College : National Institute Of Science And Technology, Berhampur"
      ]
    },
    {
      "cell_type": "markdown",
      "metadata": {
        "id": "GAAGL5WO7kAE",
        "colab_type": "text"
      },
      "source": [
        "#***Building Classification Model For Clothing Items using CNN***"
      ]
    },
    {
      "cell_type": "markdown",
      "metadata": {
        "id": "-xsHyGj_m5jE",
        "colab_type": "text"
      },
      "source": [
        "We are going to build and train a **Neural Network** to classify images of different clothing, like sneakers, shirts etc."
      ]
    },
    {
      "cell_type": "markdown",
      "metadata": {
        "id": "IFg4CzNuolcF",
        "colab_type": "text"
      },
      "source": [
        "##*`Installing tensorflow Datasets`*\n"
      ]
    },
    {
      "cell_type": "code",
      "metadata": {
        "id": "4ReHldZMX4o2",
        "colab_type": "code",
        "colab": {}
      },
      "source": [
        "!pip install -U tensorflow_datasets"
      ],
      "execution_count": null,
      "outputs": []
    },
    {
      "cell_type": "markdown",
      "metadata": {
        "id": "K8wU1n8yorqD",
        "colab_type": "text"
      },
      "source": [
        "##*`Importing Libraries`*"
      ]
    },
    {
      "cell_type": "code",
      "metadata": {
        "id": "SFXlDx-YYHs0",
        "colab_type": "code",
        "colab": {}
      },
      "source": [
        "import tensorflow as tf\n",
        "import tensorflow_datasets as tfds\n",
        "tfds.disable_progress_bar()\n",
        "\n",
        "import math\n",
        "import numpy as np\n",
        "import matplotlib.pyplot as plt\n",
        "import logging\n",
        "logger = tf.get_logger()\n",
        "logger.setLevel(logging.ERROR)"
      ],
      "execution_count": 2,
      "outputs": []
    },
    {
      "cell_type": "markdown",
      "metadata": {
        "id": "o_Lds2dGY-Ze",
        "colab_type": "text"
      },
      "source": [
        "##*`Data Loading`*"
      ]
    },
    {
      "cell_type": "markdown",
      "metadata": {
        "id": "OQ4op9m_uB9d",
        "colab_type": "text"
      },
      "source": [
        "We will be using fashion_mnist dataset, contains 70,000 grayscale images of different clothing items. Each image here is of (28 X 28) array pixels, ranging from [0, 255].\n",
        "\n",
        "Dataset is divided into two parts -\n",
        "1. Train Data (60,000 of Original Dataset)\n",
        "2. Test Data (Rest 10,000 of Original Dataset)\n",
        "\n",
        "\n",
        "\n",
        "\n"
      ]
    },
    {
      "cell_type": "code",
      "metadata": {
        "id": "aQn4IDy7Y04G",
        "colab_type": "code",
        "colab": {
          "base_uri": "https://localhost:8080/",
          "height": 84
        },
        "outputId": "31e0050c-167d-4822-ddd7-1b8832c3182e"
      },
      "source": [
        "dataset, metadata = tfds.load('fashion_mnist', as_supervised = True, with_info = True)\n",
        "train_dataset = dataset['train']\n",
        "test_dataset = dataset['test']"
      ],
      "execution_count": 3,
      "outputs": [
        {
          "output_type": "stream",
          "text": [
            "\u001b[1mDownloading and preparing dataset fashion_mnist/3.0.1 (download: 29.45 MiB, generated: 36.42 MiB, total: 65.87 MiB) to /root/tensorflow_datasets/fashion_mnist/3.0.1...\u001b[0m\n",
            "Shuffling and writing examples to /root/tensorflow_datasets/fashion_mnist/3.0.1.incompleteJN8ABN/fashion_mnist-train.tfrecord\n",
            "Shuffling and writing examples to /root/tensorflow_datasets/fashion_mnist/3.0.1.incompleteJN8ABN/fashion_mnist-test.tfrecord\n",
            "\u001b[1mDataset fashion_mnist downloaded and prepared to /root/tensorflow_datasets/fashion_mnist/3.0.1. Subsequent calls will reuse this data.\u001b[0m\n"
          ],
          "name": "stdout"
        }
      ]
    },
    {
      "cell_type": "code",
      "metadata": {
        "id": "GdpomR3RgqQ-",
        "colab_type": "code",
        "colab": {
          "base_uri": "https://localhost:8080/",
          "height": 50
        },
        "outputId": "e58eb8c2-7e07-4f3b-ee9b-0d5e48c01307"
      },
      "source": [
        "num_train_examples = metadata.splits['train'].num_examples\n",
        "num_test_examples = metadata.splits['test'].num_examples\n",
        "print(\"Number of training examples: {}\".format(num_train_examples))\n",
        "print(\"Number of test examples:     {}\".format(num_test_examples))"
      ],
      "execution_count": 4,
      "outputs": [
        {
          "output_type": "stream",
          "text": [
            "Number of training examples: 60000\n",
            "Number of test examples:     10000\n"
          ],
          "name": "stdout"
        }
      ]
    },
    {
      "cell_type": "markdown",
      "metadata": {
        "id": "UE26jrKbZrg0",
        "colab_type": "text"
      },
      "source": [
        "Labels assigned to images are from range [0, 9] discribing different items.\n",
        "<table>\n",
        "  <tr>\n",
        "    <th>Label</th>\n",
        "    <th>Class</th>\n",
        "  </tr>\n",
        "  <tr>\n",
        "    <td>0</td>\n",
        "    <td>T-shirt/top</td>\n",
        "  </tr>\n",
        "  <tr>\n",
        "    <td>1</td>\n",
        "    <td>Trouser</td>\n",
        "  </tr>\n",
        "    <tr>\n",
        "    <td>2</td>\n",
        "    <td>Pullover</td>\n",
        "  </tr>\n",
        "    <tr>\n",
        "    <td>3</td>\n",
        "    <td>Dress</td>\n",
        "  </tr>\n",
        "    <tr>\n",
        "    <td>4</td>\n",
        "    <td>Coat</td>\n",
        "  </tr>\n",
        "    <tr>\n",
        "    <td>5</td>\n",
        "    <td>Sandal</td>\n",
        "  </tr>\n",
        "    <tr>\n",
        "    <td>6</td>\n",
        "    <td>Shirt</td>\n",
        "  </tr>\n",
        "    <tr>\n",
        "    <td>7</td>\n",
        "    <td>Sneaker</td>\n",
        "  </tr>\n",
        "    <tr>\n",
        "    <td>8</td>\n",
        "    <td>Bag</td>\n",
        "  </tr>\n",
        "    <tr>\n",
        "    <td>9</td>\n",
        "    <td>Ankle boot</td>\n",
        "  </tr>\n",
        "</table>\n",
        "\n",
        "Our prediction output will be a numeric value representing particular label. So, we need class_name list containg all category names."
      ]
    },
    {
      "cell_type": "code",
      "metadata": {
        "id": "DcmSfiQuZm2P",
        "colab_type": "code",
        "colab": {}
      },
      "source": [
        "class_name = ['T-shirt/top', 'Trouser', 'Pullover', 'Dress', 'Coat', 'Sandal', 'Shirt', 'Sneaker', 'Bag', 'Ankle boot']"
      ],
      "execution_count": 5,
      "outputs": []
    },
    {
      "cell_type": "markdown",
      "metadata": {
        "id": "QpqyO-Enao1c",
        "colab_type": "text"
      },
      "source": [
        "##*`Data Preprocessing`*"
      ]
    },
    {
      "cell_type": "markdown",
      "metadata": {
        "id": "zjpSVjPwyb0P",
        "colab_type": "text"
      },
      "source": [
        "We need to normalize our image pixel value, as they are varing in range of [0, 255]."
      ]
    },
    {
      "cell_type": "code",
      "metadata": {
        "id": "bFR_oeB9adCH",
        "colab_type": "code",
        "colab": {}
      },
      "source": [
        "def normalize(images, lables):\n",
        "    images = tf.cast(images, tf.float32)\n",
        "    images /= 255\n",
        "    return images, lables\n",
        "\n",
        "train_dataset = train_dataset.map(normalize)\n",
        "test_dataset = test_dataset.map(normalize)"
      ],
      "execution_count": 6,
      "outputs": []
    },
    {
      "cell_type": "code",
      "metadata": {
        "id": "oK5u_MbCgZsC",
        "colab_type": "code",
        "colab": {}
      },
      "source": [
        "# This is to make our training faster, as our image data are going to be loaded from disk\n",
        "train_dataset =  train_dataset.cache()\n",
        "test_dataset  =  test_dataset.cache()"
      ],
      "execution_count": 7,
      "outputs": []
    },
    {
      "cell_type": "markdown",
      "metadata": {
        "id": "z2ftbs4Tbe0M",
        "colab_type": "text"
      },
      "source": [
        "##*`Exploring Dataset`*"
      ]
    },
    {
      "cell_type": "code",
      "metadata": {
        "id": "igMXjLEebbE4",
        "colab_type": "code",
        "cellView": "both",
        "colab": {
          "base_uri": "https://localhost:8080/",
          "height": 269
        },
        "outputId": "81f60ce7-6f30-4c50-ca8b-53b1c10f02f1"
      },
      "source": [
        "# displaying single image\n",
        "for image, lable in test_dataset.take(1):\n",
        "  break\n",
        "image = image.numpy().reshape((28,28))\n",
        "\n",
        "# plotting image\n",
        "plt.figure()\n",
        "plt.imshow(image, cmap = plt.cm.binary)\n",
        "plt.colorbar()\n",
        "plt.grid('off')\n",
        "plt.show()"
      ],
      "execution_count": 8,
      "outputs": [
        {
          "output_type": "display_data",
          "data": {
            "image/png": "[encoded data removed]",
            "text/plain": [
              "<Figure size 432x288 with 2 Axes>"
            ]
          },
          "metadata": {
            "tags": [],
            "needs_background": "light"
          }
        }
      ]
    },
    {
      "cell_type": "markdown",
      "metadata": {
        "id": "8vEGKM6HzcXo",
        "colab_type": "text"
      },
      "source": [
        "Displaying 25 images from our dataset with corresponding labels."
      ]
    },
    {
      "cell_type": "code",
      "metadata": {
        "id": "Cd7YR6LncHSN",
        "colab_type": "code",
        "colab": {
          "base_uri": "https://localhost:8080/",
          "height": 589
        },
        "outputId": "17095e5f-0baf-41fc-f9a7-132bfa03d9ea"
      },
      "source": [
        "plt.figure(figsize = (10, 10))\n",
        "i = 0\n",
        "for (image, lable) in test_dataset.take(25):\n",
        "  image = image.numpy().reshape((28, 28))\n",
        "  plt.subplot(5, 5, i+1)\n",
        "  plt.xticks([])\n",
        "  plt.yticks([])\n",
        "  plt.grid('off')\n",
        "  plt.imshow(image, cmap = plt.cm.binary)\n",
        "  plt.xlabel(class_name[lable])\n",
        "  i += 1\n",
        "plt.show()"
      ],
      "execution_count": 9,
      "outputs": [
        {
          "output_type": "display_data",
          "data": {
            "image/png": "[encoded data removed]",
            "text/plain": [
              "<Figure size 720x720 with 25 Axes>"
            ]
          },
          "metadata": {
            "tags": []
          }
        }
      ]
    },
    {
      "cell_type": "markdown",
      "metadata": {
        "id": "hw1iHEIZddnu",
        "colab_type": "text"
      },
      "source": [
        "##*`Model Building`*\n"
      ]
    },
    {
      "cell_type": "markdown",
      "metadata": {
        "id": "-UWunDuC0NGT",
        "colab_type": "text"
      },
      "source": [
        "For our training purpose we are going with 2 Output Layers and 2 Convolution Layer as\n",
        "* Layer 0 : Input Layer - Convolution Layer 1\n",
        "* Layer 1 : Max Pooling of Layer 0\n",
        "* Layer 2 : Convolution Layer 2\n",
        "* Layer 3 : Max Pooling of Layer 2\n",
        "* Layer 4 : Flateening Layer\n",
        "* Layer 5 : Output Layer 1 - # of nodes = 128\n",
        "* Layer 6 : Output Layer 2 - # of nodes = 10\n",
        "\n"
      ]
    },
    {
      "cell_type": "code",
      "metadata": {
        "id": "McaE_v0VdSmp",
        "colab_type": "code",
        "colab": {}
      },
      "source": [
        "l0 = tf.keras.layers.Conv2D(32, (3, 3), padding = 'same', activation = tf.nn.relu, input_shape = (28, 28, 1)) # input layer\n",
        "l1 = tf.keras.layers.MaxPooling2D((2, 2), strides = 2) # max pooling layer 0 i.e. reducing image dimentionality\n",
        "l2 = tf.keras.layers.Conv2D(64, (3, 3), padding = 'same', activation = tf.nn.relu) # convolution layer 2\n",
        "l3 = tf.keras.layers.MaxPooling2D((2, 2), strides = 2) # max pooling layer 2 i.e. reducing image dimentionality\n",
        "l4 = tf.keras.layers.Flatten() # flattening image into vector\n",
        "l5 = tf.keras.layers.Dense(units = 128, activation = tf.nn.relu) #Output Layer 1\n",
        "l6 = tf.keras.layers.Dense(units = 10, activation = tf.nn.softmax) #Output Layer 2\n",
        "model = tf.keras.Sequential([l0, l1, l2, l3, l4, l5, l6])"
      ],
      "execution_count": 10,
      "outputs": []
    },
    {
      "cell_type": "code",
      "metadata": {
        "id": "SOy9fe4OfI8N",
        "colab_type": "code",
        "colab": {}
      },
      "source": [
        "model.compile(optimizer = 'adam', loss = tf.keras.losses.SparseCategoricalCrossentropy(), metrics = ['accuracy'])"
      ],
      "execution_count": 11,
      "outputs": []
    },
    {
      "cell_type": "markdown",
      "metadata": {
        "id": "xjpxAxmQgyPk",
        "colab_type": "text"
      },
      "source": [
        "##*`Model Fitting`*"
      ]
    },
    {
      "cell_type": "code",
      "metadata": {
        "id": "CrCy95-sfjLg",
        "colab_type": "code",
        "colab": {}
      },
      "source": [
        "BATCH_SIZE = 32\n",
        "# dataset.shuffle(60000) randomizes the order of examples\n",
        "train_dataset = train_dataset.cache().repeat().shuffle(num_train_examples).batch(BATCH_SIZE)\n",
        "# dataset.batch(32) tells model.fit to use batches of 32 images and labels when updating the model variables\n",
        "test_dataset = test_dataset.cache().batch(BATCH_SIZE)"
      ],
      "execution_count": 12,
      "outputs": []
    },
    {
      "cell_type": "code",
      "metadata": {
        "id": "gdAij42jgsxm",
        "colab_type": "code",
        "colab": {
          "base_uri": "https://localhost:8080/",
          "height": 370
        },
        "outputId": "9458cce7-d2a4-4d38-f7a0-482ef1b22929"
      },
      "source": [
        "model.fit(train_dataset, epochs = 10, steps_per_epoch = math.ceil(num_test_examples / BATCH_SIZE))"
      ],
      "execution_count": 13,
      "outputs": [
        {
          "output_type": "stream",
          "text": [
            "Epoch 1/10\n",
            "313/313 [==============================] - 1s 3ms/step - loss: 0.6399 - accuracy: 0.7691\n",
            "Epoch 2/10\n",
            "313/313 [==============================] - 1s 3ms/step - loss: 0.4148 - accuracy: 0.8525\n",
            "Epoch 3/10\n",
            "313/313 [==============================] - 1s 3ms/step - loss: 0.3759 - accuracy: 0.8654\n",
            "Epoch 4/10\n",
            "313/313 [==============================] - 1s 3ms/step - loss: 0.3424 - accuracy: 0.8755\n",
            "Epoch 5/10\n",
            "313/313 [==============================] - 1s 3ms/step - loss: 0.3163 - accuracy: 0.8853\n",
            "Epoch 6/10\n",
            "313/313 [==============================] - 1s 3ms/step - loss: 0.2915 - accuracy: 0.8919\n",
            "Epoch 7/10\n",
            "313/313 [==============================] - 1s 3ms/step - loss: 0.2781 - accuracy: 0.8980\n",
            "Epoch 8/10\n",
            "313/313 [==============================] - 1s 3ms/step - loss: 0.2882 - accuracy: 0.8941\n",
            "Epoch 9/10\n",
            "313/313 [==============================] - 1s 3ms/step - loss: 0.2700 - accuracy: 0.9037\n",
            "Epoch 10/10\n",
            "313/313 [==============================] - 1s 3ms/step - loss: 0.2680 - accuracy: 0.9014\n"
          ],
          "name": "stdout"
        },
        {
          "output_type": "execute_result",
          "data": {
            "text/plain": [
              "<tensorflow.python.keras.callbacks.History at 0x7fbfd7a75a90>"
            ]
          },
          "metadata": {
            "tags": []
          },
          "execution_count": 13
        }
      ]
    },
    {
      "cell_type": "markdown",
      "metadata": {
        "id": "A7DrifXphHRf",
        "colab_type": "text"
      },
      "source": [
        "##*`Accuracy Calculation`*"
      ]
    },
    {
      "cell_type": "markdown",
      "metadata": {
        "id": "hXnvS7Pn25Zi",
        "colab_type": "text"
      },
      "source": [
        "Using test dataset for accuracy calculation and compairing with accuracy and loss from training datasets. If the accuracy on the test dataset is smaller than the accuracy on the training dataset then we are fine and good to proceed."
      ]
    },
    {
      "cell_type": "code",
      "metadata": {
        "id": "b1gSyJ6uhE-v",
        "colab_type": "code",
        "colab": {
          "base_uri": "https://localhost:8080/",
          "height": 50
        },
        "outputId": "42bc462a-58f7-4f46-86b9-e0bc7ad2b918"
      },
      "source": [
        "test_loss, test_accuracy = model.evaluate(test_dataset, steps = math.ceil(num_test_examples / BATCH_SIZE))\n",
        "print(\"Test Accuracy : {}\".format(test_accuracy))"
      ],
      "execution_count": 14,
      "outputs": [
        {
          "output_type": "stream",
          "text": [
            "313/313 [==============================] - 2s 6ms/step - loss: 0.2810 - accuracy: 0.9030\n",
            "Test Accuracy : 0.902999997138977\n"
          ],
          "name": "stdout"
        }
      ]
    },
    {
      "cell_type": "markdown",
      "metadata": {
        "id": "qWvlxak7hsrx",
        "colab_type": "text"
      },
      "source": [
        "##*`Prediction`*"
      ]
    },
    {
      "cell_type": "code",
      "metadata": {
        "id": "obH7LxEwholN",
        "colab_type": "code",
        "colab": {}
      },
      "source": [
        "for test_images, test_labels in test_dataset.take(1):\n",
        "  test_images = test_images.numpy()\n",
        "  test_labels = test_labels.numpy()\n",
        "  predictions = model.predict(test_images)"
      ],
      "execution_count": 15,
      "outputs": []
    },
    {
      "cell_type": "code",
      "metadata": {
        "id": "QIZfw5ZBiUAV",
        "colab_type": "code",
        "colab": {
          "base_uri": "https://localhost:8080/",
          "height": 34
        },
        "outputId": "ac85be3d-8cae-4ebf-b0a0-be2f8c84a110"
      },
      "source": [
        "predictions.shape"
      ],
      "execution_count": 16,
      "outputs": [
        {
          "output_type": "execute_result",
          "data": {
            "text/plain": [
              "(32, 10)"
            ]
          },
          "metadata": {
            "tags": []
          },
          "execution_count": 16
        }
      ]
    },
    {
      "cell_type": "code",
      "metadata": {
        "id": "zToRqZ3NiWeE",
        "colab_type": "code",
        "colab": {
          "base_uri": "https://localhost:8080/",
          "height": 67
        },
        "outputId": "27c5462a-2d05-42d7-c5df-1db23c978c87"
      },
      "source": [
        "print(\"Actual Value for Particular Image {}\".format(test_labels[0]))\n",
        "print(\"Predicted Value for that Image {}\".format(np.argmax(predictions[0])))\n",
        "\n",
        "if test_labels[0] == np.argmax(predictions[0]):\n",
        "  print(\"-->Correct Prediction.\")"
      ],
      "execution_count": 17,
      "outputs": [
        {
          "output_type": "stream",
          "text": [
            "Actual Value for Particular Image 4\n",
            "Predicted Value for that Image 4\n",
            "-->Correct Prediction.\n"
          ],
          "name": "stdout"
        }
      ]
    },
    {
      "cell_type": "markdown",
      "metadata": {
        "id": "2eMAXjIv4Xtb",
        "colab_type": "text"
      },
      "source": [
        "We can graph this to look at the full set of 10 class predictions"
      ]
    },
    {
      "cell_type": "code",
      "metadata": {
        "id": "Z2hOFirKirn4",
        "colab_type": "code",
        "colab": {}
      },
      "source": [
        "def plot_image(i, predictions_array, true_labels, images):\n",
        "  predictions_array, true_label, img = predictions_array[i], true_labels[i], images[i]\n",
        "  plt.grid(False)\n",
        "  plt.xticks([])\n",
        "  plt.yticks([])\n",
        "  \n",
        "  plt.imshow(img[...,0], cmap=plt.cm.binary)\n",
        "\n",
        "  predicted_label = np.argmax(predictions_array)\n",
        "  if predicted_label == true_label:\n",
        "    color = 'blue'\n",
        "  else:\n",
        "    color = 'red'\n",
        "  \n",
        "  plt.xlabel(\"{} {:2.0f}% ({})\".format(class_name[predicted_label],\n",
        "                                100*np.max(predictions_array),\n",
        "                                class_name[true_label]),\n",
        "                                color=color)\n",
        "\n",
        "def plot_value_array(i, predictions_array, true_label):\n",
        "  predictions_array, true_label = predictions_array[i], true_label[i]\n",
        "  plt.grid(False)\n",
        "  plt.xticks([])\n",
        "  plt.yticks([])\n",
        "  thisplot = plt.bar(range(10), predictions_array, color=\"#777777\")\n",
        "  plt.ylim([0, 1]) \n",
        "  predicted_label = np.argmax(predictions_array)\n",
        "  \n",
        "  thisplot[predicted_label].set_color('red')\n",
        "  thisplot[true_label].set_color('blue')"
      ],
      "execution_count": 18,
      "outputs": []
    },
    {
      "cell_type": "code",
      "metadata": {
        "id": "wJG3-hTDi35q",
        "colab_type": "code",
        "colab": {
          "base_uri": "https://localhost:8080/",
          "height": 203
        },
        "outputId": "3c96b514-8909-4969-c040-f4ed1770a3cb"
      },
      "source": [
        "i = 0\n",
        "plt.figure(figsize=(6,3))\n",
        "plt.subplot(1,2,1)\n",
        "plot_image(i, predictions, test_labels, test_images)\n",
        "plt.subplot(1,2,2)\n",
        "plot_value_array(i, predictions, test_labels)"
      ],
      "execution_count": 19,
      "outputs": [
        {
          "output_type": "display_data",
          "data": {
            "image/png": "[encoded data removed]",
            "text/plain": [
              "<Figure size 432x216 with 2 Axes>"
            ]
          },
          "metadata": {
            "tags": []
          }
        }
      ]
    },
    {
      "cell_type": "code",
      "metadata": {
        "id": "luN-ZXpei6AO",
        "colab_type": "code",
        "colab": {
          "base_uri": "https://localhost:8080/",
          "height": 203
        },
        "outputId": "8a0344e2-b8f8-4ed8-f11c-826c3f91e6c3"
      },
      "source": [
        "i = 12\n",
        "plt.figure(figsize=(6,3))\n",
        "plt.subplot(1,2,1)\n",
        "plot_image(i, predictions, test_labels, test_images)\n",
        "plt.subplot(1,2,2)\n",
        "plot_value_array(i, predictions, test_labels)"
      ],
      "execution_count": 20,
      "outputs": [
        {
          "output_type": "display_data",
          "data": {
            "image/png": "[encoded data removed]",
            "text/plain": [
              "<Figure size 432x216 with 2 Axes>"
            ]
          },
          "metadata": {
            "tags": []
          }
        }
      ]
    },
    {
      "cell_type": "code",
      "metadata": {
        "id": "GIUlWS8ukNds",
        "colab_type": "code",
        "colab": {
          "base_uri": "https://localhost:8080/",
          "height": 589
        },
        "outputId": "00d19588-d3a7-4fa4-d800-378a4a17aa40"
      },
      "source": [
        "# Plot the first X test images, their predicted label, and the true label\n",
        "# Color correct predictions in blue, incorrect predictions in red\n",
        "num_rows = 5\n",
        "num_cols = 3\n",
        "num_images = num_rows*num_cols\n",
        "plt.figure(figsize=(2*2*num_cols, 2*num_rows))\n",
        "for i in range(num_images):\n",
        "  plt.subplot(num_rows, 2*num_cols, 2*i+1)\n",
        "  plot_image(i, predictions, test_labels, test_images)\n",
        "  plt.subplot(num_rows, 2*num_cols, 2*i+2)\n",
        "  plot_value_array(i, predictions, test_labels)\n"
      ],
      "execution_count": 21,
      "outputs": [
        {
          "output_type": "display_data",
          "data": {
            "image/png": "[encoded data removed]",
            "text/plain": [
              "<Figure size 864x720 with 30 Axes>"
            ]
          },
          "metadata": {
            "tags": []
          }
        }
      ]
    },
    {
      "cell_type": "markdown",
      "metadata": {
        "id": "spyuyH1T4ras",
        "colab_type": "text"
      },
      "source": [
        "Predicting over new Single images."
      ]
    },
    {
      "cell_type": "code",
      "metadata": {
        "id": "mtR2IyAqkP79",
        "colab_type": "code",
        "colab": {
          "base_uri": "https://localhost:8080/",
          "height": 530
        },
        "outputId": "7d6b2887-c23b-4fa5-9bd8-984693312d10"
      },
      "source": [
        "# Grab an image from the test dataset\n",
        "img = test_images[0]\n",
        "print(img.shape)\n",
        "img = np.array([img])\n",
        "print(img.shape)\n",
        "\n",
        "predictions_single = model.predict(img)\n",
        "print(np.argmax(predictions_single[0]))\n",
        "\n",
        "plot_value_array(0, predictions_single, test_labels)\n",
        "_ = plt.xticks(range(10), class_name, rotation=45)\n",
        "\n",
        "\n",
        "plt.figure(figsize=(6,3))\n",
        "plt.subplot(1,2,1)\n",
        "plot_image(0, predictions_single, test_labels, test_images)"
      ],
      "execution_count": 22,
      "outputs": [
        {
          "output_type": "stream",
          "text": [
            "(28, 28, 1)\n",
            "(1, 28, 28, 1)\n",
            "4\n"
          ],
          "name": "stdout"
        },
        {
          "output_type": "display_data",
          "data": {
            "image/png": "[encoded data removed]",
            "text/plain": [
              "<Figure size 432x288 with 1 Axes>"
            ]
          },
          "metadata": {
            "tags": [],
            "needs_background": "light"
          }
        },
        {
          "output_type": "display_data",
          "data": {
            "image/png": "[encoded data removed]",
            "text/plain": [
              "<Figure size 432x216 with 1 Axes>"
            ]
          },
          "metadata": {
            "tags": []
          }
        }
      ]
    },
    {
      "cell_type": "code",
      "metadata": {
        "id": "nzhc1TM6lUPG",
        "colab_type": "code",
        "colab": {}
      },
      "source": [
        ""
      ],
      "execution_count": 22,
      "outputs": []
    }
  ]
}